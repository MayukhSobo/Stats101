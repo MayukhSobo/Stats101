{
 "cells": [
  {
   "cell_type": "markdown",
   "metadata": {},
   "source": [
    "# Introduction"
   ]
  },
  {
   "cell_type": "markdown",
   "metadata": {},
   "source": [
    "This method is used to find the p-value in a hypothesis testing. In modern computing we use resampling and permutation of samples to figure out the p-value instead of old table based approaches. Although some similary tests like **Kolmokorov-Sprinov** test still reply on tables values instead of Permutaion and Sampling."
   ]
  },
  {
   "cell_type": "code",
   "execution_count": 1,
   "metadata": {},
   "outputs": [],
   "source": [
    "import numpy as np"
   ]
  },
  {
   "cell_type": "markdown",
   "metadata": {},
   "source": [
    "## Sample 2 random variables"
   ]
  },
  {
   "cell_type": "code",
   "execution_count": 11,
   "metadata": {},
   "outputs": [],
   "source": [
    "city_1_heights = np.random.uniform(low=140, high=185, size=50)\n",
    "city_2_heights = np.random.uniform(low=140, high=185, size=50)"
   ]
  },
  {
   "cell_type": "code",
   "execution_count": 12,
   "metadata": {},
   "outputs": [
    {
     "data": {
      "text/plain": [
       "array([ 162.1750727 ,  176.9668943 ,  144.82959801,  176.28823395,\n",
       "        154.0266655 ,  173.67410065,  159.48609444,  151.39201431,\n",
       "        177.73125168,  148.55280433,  176.03976771,  155.5956065 ,\n",
       "        143.83720274,  158.6961084 ,  174.82661103,  164.31506462,\n",
       "        153.30989551,  153.05149335,  177.28304299,  140.4962265 ,\n",
       "        168.40433684,  153.48082981,  177.35096746,  156.19651856,\n",
       "        163.68509129,  182.50075291,  172.09107727,  182.02953439,\n",
       "        145.16205619,  170.87115606,  166.14328985,  160.81163071,\n",
       "        179.80727322,  146.75331887,  161.7145309 ,  156.60748839,\n",
       "        152.10317395,  156.22916131,  160.71556484,  173.30582415,\n",
       "        166.86902416,  170.392744  ,  167.25188268,  172.56412748,\n",
       "        162.95830006,  165.51109896,  149.5228493 ,  171.00007839,\n",
       "        170.43218649,  155.18837737])"
      ]
     },
     "execution_count": 12,
     "metadata": {},
     "output_type": "execute_result"
    }
   ],
   "source": [
    "city_1_heights"
   ]
  },
  {
   "cell_type": "code",
   "execution_count": 13,
   "metadata": {},
   "outputs": [
    {
     "data": {
      "text/plain": [
       "array([ 144.39780371,  154.26090619,  164.65341446,  151.01438857,\n",
       "        158.66881619,  150.96416582,  179.7023463 ,  176.13094103,\n",
       "        165.81333735,  177.38790908,  149.69326777,  178.02772412,\n",
       "        182.99228283,  157.13655253,  142.9411304 ,  180.78069901,\n",
       "        161.27696419,  160.49720273,  142.40155843,  158.14770991,\n",
       "        143.26862332,  152.54272157,  162.28388012,  161.91257794,\n",
       "        180.75513919,  146.99337932,  146.25585699,  184.5087434 ,\n",
       "        164.92628242,  170.86583692,  184.95097115,  145.09194849,\n",
       "        174.61813749,  144.75808108,  146.67072194,  145.9479317 ,\n",
       "        177.50640512,  144.44111688,  144.1073582 ,  143.0370369 ,\n",
       "        154.16455297,  178.43332768,  155.12163199,  149.27485422,\n",
       "        166.71797671,  160.31524502,  182.82971931,  169.93563951,\n",
       "        167.06446858,  153.42470753])"
      ]
     },
     "execution_count": 13,
     "metadata": {},
     "output_type": "execute_result"
    }
   ],
   "source": [
    "city_2_heights"
   ]
  },
  {
   "cell_type": "markdown",
   "metadata": {},
   "source": [
    "## Calculate the Mean of the two series"
   ]
  },
  {
   "cell_type": "code",
   "execution_count": 26,
   "metadata": {},
   "outputs": [],
   "source": [
    "mean_city_1 = city_1_heights.mean()\n",
    "mean_city_2 = city_2_heights.mean()"
   ]
  },
  {
   "cell_type": "markdown",
   "metadata": {},
   "source": [
    "## Define the test-statistics"
   ]
  },
  {
   "cell_type": "code",
   "execution_count": 44,
   "metadata": {},
   "outputs": [],
   "source": [
    "Obeserved_Value = round(abs(mean_city_1 - mean_city_2), 2)"
   ]
  },
  {
   "cell_type": "code",
   "execution_count": 45,
   "metadata": {},
   "outputs": [
    {
     "data": {
      "text/plain": [
       "2.4100000000000001"
      ]
     },
     "execution_count": 45,
     "metadata": {},
     "output_type": "execute_result"
    }
   ],
   "source": [
    "Obeserved_Value"
   ]
  },
  {
   "cell_type": "markdown",
   "metadata": {},
   "source": [
    "## Define Null and Alternative Hypothesis"
   ]
  },
  {
   "cell_type": "markdown",
   "metadata": {},
   "source": [
    "$$\n",
    "H_0 = {The\\> average\\> population\\> of\\> the\\> two\\> cities\\> is\\> not\\> different}\\\\\n",
    "H_1 = {The\\> average\\> population\\> of\\> the\\> two\\> cities\\> is\\> different}\n",
    "$$"
   ]
  },
  {
   "cell_type": "markdown",
   "metadata": {},
   "source": [
    "## Define the Significance Level"
   ]
  },
  {
   "cell_type": "code",
   "execution_count": 80,
   "metadata": {},
   "outputs": [],
   "source": [
    "SIGNIFICANCE_LEVEL = 5"
   ]
  },
  {
   "cell_type": "markdown",
   "metadata": {},
   "source": [
    "## Define Sampling Frequency"
   ]
  },
  {
   "cell_type": "code",
   "execution_count": 16,
   "metadata": {},
   "outputs": [],
   "source": [
    "SAMPLING_FREQ = 1000"
   ]
  },
  {
   "cell_type": "markdown",
   "metadata": {},
   "source": [
    "## Combine all the samples"
   ]
  },
  {
   "cell_type": "code",
   "execution_count": 19,
   "metadata": {},
   "outputs": [],
   "source": [
    "all_heights = np.append(city_1_heights, city_2_heights)"
   ]
  },
  {
   "cell_type": "code",
   "execution_count": 20,
   "metadata": {},
   "outputs": [
    {
     "data": {
      "text/plain": [
       "array([ 162.1750727 ,  176.9668943 ,  144.82959801,  176.28823395,\n",
       "        154.0266655 ,  173.67410065,  159.48609444,  151.39201431,\n",
       "        177.73125168,  148.55280433,  176.03976771,  155.5956065 ,\n",
       "        143.83720274,  158.6961084 ,  174.82661103,  164.31506462,\n",
       "        153.30989551,  153.05149335,  177.28304299,  140.4962265 ,\n",
       "        168.40433684,  153.48082981,  177.35096746,  156.19651856,\n",
       "        163.68509129,  182.50075291,  172.09107727,  182.02953439,\n",
       "        145.16205619,  170.87115606,  166.14328985,  160.81163071,\n",
       "        179.80727322,  146.75331887,  161.7145309 ,  156.60748839,\n",
       "        152.10317395,  156.22916131,  160.71556484,  173.30582415,\n",
       "        166.86902416,  170.392744  ,  167.25188268,  172.56412748,\n",
       "        162.95830006,  165.51109896,  149.5228493 ,  171.00007839,\n",
       "        170.43218649,  155.18837737,  144.39780371,  154.26090619,\n",
       "        164.65341446,  151.01438857,  158.66881619,  150.96416582,\n",
       "        179.7023463 ,  176.13094103,  165.81333735,  177.38790908,\n",
       "        149.69326777,  178.02772412,  182.99228283,  157.13655253,\n",
       "        142.9411304 ,  180.78069901,  161.27696419,  160.49720273,\n",
       "        142.40155843,  158.14770991,  143.26862332,  152.54272157,\n",
       "        162.28388012,  161.91257794,  180.75513919,  146.99337932,\n",
       "        146.25585699,  184.5087434 ,  164.92628242,  170.86583692,\n",
       "        184.95097115,  145.09194849,  174.61813749,  144.75808108,\n",
       "        146.67072194,  145.9479317 ,  177.50640512,  144.44111688,\n",
       "        144.1073582 ,  143.0370369 ,  154.16455297,  178.43332768,\n",
       "        155.12163199,  149.27485422,  166.71797671,  160.31524502,\n",
       "        182.82971931,  169.93563951,  167.06446858,  153.42470753])"
      ]
     },
     "execution_count": 20,
     "metadata": {},
     "output_type": "execute_result"
    }
   ],
   "source": [
    "all_heights"
   ]
  },
  {
   "cell_type": "markdown",
   "metadata": {},
   "source": [
    "## Resample of sampling frequency times randomly"
   ]
  },
  {
   "cell_type": "code",
   "execution_count": 67,
   "metadata": {},
   "outputs": [],
   "source": [
    "test_stats = np.array([])\n",
    "for each in range(SAMPLING_FREQ):\n",
    "    s1 = np.random.choice(all_heights, 50, replace=True)  # sample 1\n",
    "    s2 = np.random.choice(all_heights, 50, replace=True)  # sample 2\n",
    "    test_stats = np.append(test_stats, round(abs(s1.mean() - s2.mean()), 2))"
   ]
  },
  {
   "cell_type": "markdown",
   "metadata": {},
   "source": [
    "## Sort all the values in no-decreasing order"
   ]
  },
  {
   "cell_type": "code",
   "execution_count": 72,
   "metadata": {},
   "outputs": [],
   "source": [
    "test_stats.sort()"
   ]
  },
  {
   "cell_type": "code",
   "execution_count": 71,
   "metadata": {
    "scrolled": false
   },
   "outputs": [
    {
     "data": {
      "text/plain": [
       "array([ 0.  ,  0.01,  0.01,  0.02,  0.03,  0.03,  0.03,  0.03,  0.04,  0.04])"
      ]
     },
     "execution_count": 71,
     "metadata": {},
     "output_type": "execute_result"
    }
   ],
   "source": [
    "test_stats[:10]"
   ]
  },
  {
   "cell_type": "markdown",
   "metadata": {},
   "source": [
    "## # of values Values >= ```Obeserved_Value``` in ```test_stats```?"
   ]
  },
  {
   "cell_type": "code",
   "execution_count": 75,
   "metadata": {},
   "outputs": [],
   "source": [
    "above_values = test_stats[test_stats >= Obeserved_Value].size"
   ]
  },
  {
   "cell_type": "code",
   "execution_count": 76,
   "metadata": {},
   "outputs": [
    {
     "data": {
      "text/plain": [
       "332"
      ]
     },
     "execution_count": 76,
     "metadata": {},
     "output_type": "execute_result"
    }
   ],
   "source": [
    "above_values"
   ]
  },
  {
   "cell_type": "markdown",
   "metadata": {},
   "source": [
    "## Probability of ```Obeserved_Value``` given the NULL Hypothesis is accepted"
   ]
  },
  {
   "cell_type": "markdown",
   "metadata": {},
   "source": [
    "$$\n",
    "P(X \\ge {Obeserved\\_Value} \\mid H_0) = \\frac{above\\_values}{total} \\times 100\n",
    "$$"
   ]
  },
  {
   "cell_type": "code",
   "execution_count": 78,
   "metadata": {},
   "outputs": [],
   "source": [
    "p = 332 / 1000 * 100"
   ]
  },
  {
   "cell_type": "code",
   "execution_count": 79,
   "metadata": {},
   "outputs": [
    {
     "data": {
      "text/plain": [
       "33.2"
      ]
     },
     "execution_count": 79,
     "metadata": {},
     "output_type": "execute_result"
    }
   ],
   "source": [
    "p"
   ]
  },
  {
   "cell_type": "markdown",
   "metadata": {},
   "source": [
    "## Find the significane related Significance Level"
   ]
  },
  {
   "cell_type": "code",
   "execution_count": null,
   "metadata": {},
   "outputs": [],
   "source": [
    "if p >= SIGNIFICANCE_LEVEL:\n",
    "    print('We fail to reject NULL Hypothesis')\n",
    "else:\n",
    "    print('We reject t')"
   ]
  }
 ],
 "metadata": {
  "kernelspec": {
   "display_name": "Python 3",
   "language": "python",
   "name": "python3"
  },
  "language_info": {
   "codemirror_mode": {
    "name": "ipython",
    "version": 3
   },
   "file_extension": ".py",
   "mimetype": "text/x-python",
   "name": "python",
   "nbconvert_exporter": "python",
   "pygments_lexer": "ipython3",
   "version": "3.6.4"
  }
 },
 "nbformat": 4,
 "nbformat_minor": 2
}
